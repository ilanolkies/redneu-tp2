{
 "cells": [
  {
   "cell_type": "code",
   "execution_count": 1,
   "metadata": {},
   "outputs": [],
   "source": [
    "%matplotlib notebook\n",
    "import pandas as pd\n",
    "import numpy as np\n",
    "from matplotlib import pyplot as mpl\n",
    "from mpl_toolkits.mplot3d import Axes3D"
   ]
  },
  {
   "cell_type": "code",
   "execution_count": 2,
   "metadata": {},
   "outputs": [],
   "source": [
    "df = pd.read_csv(\"../dataset/tp2_training_dataset.csv\", header=None)\n",
    "data = pd.DataFrame(df[df.columns[1:]]).to_numpy()\n",
    "\n",
    "# recortar data: data = data[0:X]\n",
    "\n",
    "(P, N) = data.shape\n",
    "M = 9\n",
    "\n",
    "X = (data - data.mean(axis=0)) / data.std()\n",
    "w = np.random.normal(0, 0.1, (N,M))"
   ]
  },
  {
   "cell_type": "code",
   "execution_count": 3,
   "metadata": {},
   "outputs": [],
   "source": [
    "def train(W, lr):\n",
    "    dw = np.zeros_like(W)\n",
    "    #while(np.sum(np.abs(np.dot(w.T,w) - np.identity(M)))/2 > 9):\n",
    "    for t in range(1):\n",
    "        print(t)\n",
    "        for h in range(P):\n",
    "            _X = np.dot(X[h], W)\n",
    "            for j in range(M):\n",
    "                for i in range(N):\n",
    "                    z = 0\n",
    "                    for k in range(1, M): # q=M OjaGen \\ q=j Sanger\n",
    "                        z += _X[k] * W[i][k]\n",
    "                    dw[i][j] = lr * (X[h][i] - z) * _X[j] \n",
    "            W += dw\n",
    "        #print(np.sum(np.abs(np.dot(w.T,w) - np.identity(M)))/2)\n",
    "    return W"
   ]
  },
  {
   "cell_type": "code",
   "execution_count": 4,
   "metadata": {},
   "outputs": [
    {
     "name": "stdout",
     "output_type": "stream",
     "text": [
      "[[ 0.02050642 -0.10026884 -0.01748664 ... -0.10074555 -0.0742353\n",
      "  -0.06227976]\n",
      " [ 0.02601395  0.07145391  0.03876821 ...  0.07632436 -0.11219135\n",
      "   0.13263746]\n",
      " [ 0.17056671 -0.01846145  0.04351177 ... -0.14345044  0.08495069\n",
      "  -0.28917929]\n",
      " ...\n",
      " [ 0.08406026 -0.07164514  0.10268941 ... -0.07159141 -0.0016843\n",
      "  -0.05059264]\n",
      " [-0.00407431 -0.11087934 -0.01760022 ...  0.0421818   0.01259678\n",
      "   0.1963368 ]\n",
      " [-0.02318903  0.0273901   0.23980943 ... -0.15434794  0.12463854\n",
      "   0.06629107]]\n",
      "0\n"
     ]
    },
    {
     "name": "stderr",
     "output_type": "stream",
     "text": [
      "/Users/ilanolkies/.pyenv/versions/3.6.5/lib/python3.6/site-packages/ipykernel_launcher.py:12: RuntimeWarning: overflow encountered in double_scalars\n",
      "  if sys.path[0] == '':\n"
     ]
    },
    {
     "ename": "KeyboardInterrupt",
     "evalue": "",
     "output_type": "error",
     "traceback": [
      "\u001b[0;31m---------------------------------------------------------------------------\u001b[0m",
      "\u001b[0;31mKeyboardInterrupt\u001b[0m                         Traceback (most recent call last)",
      "\u001b[0;32m<ipython-input-4-a2198dca5b49>\u001b[0m in \u001b[0;36m<module>\u001b[0;34m\u001b[0m\n\u001b[1;32m      1\u001b[0m \u001b[0mprint\u001b[0m\u001b[0;34m(\u001b[0m\u001b[0mw\u001b[0m\u001b[0;34m)\u001b[0m\u001b[0;34m\u001b[0m\u001b[0m\n\u001b[0;32m----> 2\u001b[0;31m \u001b[0mb\u001b[0m \u001b[0;34m=\u001b[0m \u001b[0mtrain\u001b[0m\u001b[0;34m(\u001b[0m\u001b[0mw\u001b[0m\u001b[0;34m,\u001b[0m\u001b[0;36m0.1\u001b[0m\u001b[0;34m)\u001b[0m\u001b[0;34m\u001b[0m\u001b[0m\n\u001b[0m\u001b[1;32m      3\u001b[0m \u001b[0mprint\u001b[0m\u001b[0;34m(\u001b[0m\u001b[0mb\u001b[0m\u001b[0;34m)\u001b[0m\u001b[0;34m\u001b[0m\u001b[0m\n",
      "\u001b[0;32m<ipython-input-3-486b39601bc4>\u001b[0m in \u001b[0;36mtrain\u001b[0;34m(W, lr)\u001b[0m\n\u001b[1;32m     11\u001b[0m                     \u001b[0;32mfor\u001b[0m \u001b[0mk\u001b[0m \u001b[0;32min\u001b[0m \u001b[0mrange\u001b[0m\u001b[0;34m(\u001b[0m\u001b[0;36m1\u001b[0m\u001b[0;34m,\u001b[0m \u001b[0mM\u001b[0m\u001b[0;34m)\u001b[0m\u001b[0;34m:\u001b[0m \u001b[0;31m# q=M OjaGen \\ q=j Sanger\u001b[0m\u001b[0;34m\u001b[0m\u001b[0m\n\u001b[1;32m     12\u001b[0m                         \u001b[0mz\u001b[0m \u001b[0;34m+=\u001b[0m \u001b[0m_X\u001b[0m\u001b[0;34m[\u001b[0m\u001b[0mk\u001b[0m\u001b[0;34m]\u001b[0m \u001b[0;34m*\u001b[0m \u001b[0mW\u001b[0m\u001b[0;34m[\u001b[0m\u001b[0mi\u001b[0m\u001b[0;34m]\u001b[0m\u001b[0;34m[\u001b[0m\u001b[0mk\u001b[0m\u001b[0;34m]\u001b[0m\u001b[0;34m\u001b[0m\u001b[0m\n\u001b[0;32m---> 13\u001b[0;31m                     \u001b[0mdw\u001b[0m\u001b[0;34m[\u001b[0m\u001b[0mi\u001b[0m\u001b[0;34m]\u001b[0m\u001b[0;34m[\u001b[0m\u001b[0mj\u001b[0m\u001b[0;34m]\u001b[0m \u001b[0;34m=\u001b[0m \u001b[0mlr\u001b[0m \u001b[0;34m*\u001b[0m \u001b[0;34m(\u001b[0m\u001b[0mX\u001b[0m\u001b[0;34m[\u001b[0m\u001b[0mh\u001b[0m\u001b[0;34m]\u001b[0m\u001b[0;34m[\u001b[0m\u001b[0mi\u001b[0m\u001b[0;34m]\u001b[0m \u001b[0;34m-\u001b[0m \u001b[0mz\u001b[0m\u001b[0;34m)\u001b[0m \u001b[0;34m*\u001b[0m \u001b[0m_X\u001b[0m\u001b[0;34m[\u001b[0m\u001b[0mj\u001b[0m\u001b[0;34m]\u001b[0m\u001b[0;34m\u001b[0m\u001b[0m\n\u001b[0m\u001b[1;32m     14\u001b[0m             \u001b[0mW\u001b[0m \u001b[0;34m+=\u001b[0m \u001b[0mdw\u001b[0m\u001b[0;34m\u001b[0m\u001b[0m\n\u001b[1;32m     15\u001b[0m         \u001b[0;31m#print(np.sum(np.abs(np.dot(w.T,w) - np.identity(M)))/2)\u001b[0m\u001b[0;34m\u001b[0m\u001b[0;34m\u001b[0m\u001b[0m\n",
      "\u001b[0;31mKeyboardInterrupt\u001b[0m: "
     ]
    }
   ],
   "source": [
    "print(w)\n",
    "b = train(w,0.1)\n",
    "print(b)"
   ]
  },
  {
   "cell_type": "code",
   "execution_count": null,
   "metadata": {},
   "outputs": [],
   "source": [
    "y = np.dot(X, b)"
   ]
  },
  {
   "cell_type": "code",
   "execution_count": null,
   "metadata": {},
   "outputs": [],
   "source": [
    "print(y.max())\n",
    "print(y.min())"
   ]
  },
  {
   "cell_type": "code",
   "execution_count": null,
   "metadata": {},
   "outputs": [],
   "source": [
    "fig = mpl.figure()\n",
    "xyz = fig.add_subplot(111, projection='3d')\n",
    "xyz.set_xlim( -1, 1)\n",
    "xyz.set_ylim( -1, 1)\n",
    "xyz.set_zlim( -1, 1)\n",
    "xyz.plot( y[:,0], y[:,1], y[:,2], 'b.')\n",
    "mpl.show()\n",
    "\n",
    "fig = mpl.figure()\n",
    "xyz = fig.add_subplot(111, projection='3d')\n",
    "xyz.set_xlim( -1, 1)\n",
    "xyz.set_ylim( -1, 1)\n",
    "xyz.set_zlim( -1, 1)\n",
    "xyz.plot( y[:,3], y[:,4], y[:,5], 'b.')\n",
    "mpl.show()\n",
    "\n",
    "fig = mpl.figure()\n",
    "xyz = fig.add_subplot(111, projection='3d')\n",
    "xyz.set_xlim( -1, 1)\n",
    "xyz.set_ylim( -1, 1)\n",
    "xyz.set_zlim( -1, 1)\n",
    "xyz.plot( y[:,6], y[:,7], y[:,8], 'b.')\n",
    "mpl.show()"
   ]
  },
  {
   "cell_type": "code",
   "execution_count": 4,
   "metadata": {},
   "outputs": [
    {
     "name": "stdout",
     "output_type": "stream",
     "text": [
      "aprendizaje hebbiano no supervisado\n"
     ]
    }
   ],
   "source": [
    "import sys\n",
    "sys.path.insert(1, '../src')\n",
    "import hebbiano"
   ]
  }
 ],
 "metadata": {
  "kernelspec": {
   "display_name": "Python 3",
   "language": "python",
   "name": "python3"
  },
  "language_info": {
   "codemirror_mode": {
    "name": "ipython",
    "version": 3
   },
   "file_extension": ".py",
   "mimetype": "text/x-python",
   "name": "python",
   "nbconvert_exporter": "python",
   "pygments_lexer": "ipython3",
   "version": "3.6.5"
  }
 },
 "nbformat": 4,
 "nbformat_minor": 2
}
